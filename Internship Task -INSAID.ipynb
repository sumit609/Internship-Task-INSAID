{
 "cells": [
  {
   "cell_type": "code",
   "execution_count": 1,
   "id": "fcb3f358",
   "metadata": {},
   "outputs": [
    {
     "name": "stderr",
     "output_type": "stream",
     "text": [
      "Matplotlib is building the font cache; this may take a moment.\n"
     ]
    }
   ],
   "source": [
    "import numpy as np\n",
    "import pandas as pd\n",
    "\n",
    "import matplotlib.pyplot as plt\n",
    "import seaborn as sns\n",
    "from scipy.stats import norm\n",
    "\n",
    "import warnings\n",
    "warnings.filterwarnings('ignore')"
   ]
  },
  {
   "cell_type": "code",
   "execution_count": 2,
   "id": "c9d71bdc",
   "metadata": {},
   "outputs": [],
   "source": [
    "pd.set_option('display.float_format', lambda x: '%.3f' % x)"
   ]
  },
  {
   "cell_type": "code",
   "execution_count": 3,
   "id": "4002f12a",
   "metadata": {},
   "outputs": [],
   "source": [
    "# Loading csv file from System Folder\n",
    "\n",
    "df=pd.read_csv(\"Fraud.csv\")"
   ]
  },
  {
   "cell_type": "code",
   "execution_count": 4,
   "id": "ee522233",
   "metadata": {},
   "outputs": [
    {
     "data": {
      "text/html": [
       "<div>\n",
       "<style scoped>\n",
       "    .dataframe tbody tr th:only-of-type {\n",
       "        vertical-align: middle;\n",
       "    }\n",
       "\n",
       "    .dataframe tbody tr th {\n",
       "        vertical-align: top;\n",
       "    }\n",
       "\n",
       "    .dataframe thead th {\n",
       "        text-align: right;\n",
       "    }\n",
       "</style>\n",
       "<table border=\"1\" class=\"dataframe\">\n",
       "  <thead>\n",
       "    <tr style=\"text-align: right;\">\n",
       "      <th></th>\n",
       "      <th>step</th>\n",
       "      <th>type</th>\n",
       "      <th>amount</th>\n",
       "      <th>nameOrig</th>\n",
       "      <th>oldbalanceOrg</th>\n",
       "      <th>newbalanceOrig</th>\n",
       "      <th>nameDest</th>\n",
       "      <th>oldbalanceDest</th>\n",
       "      <th>newbalanceDest</th>\n",
       "      <th>isFraud</th>\n",
       "      <th>isFlaggedFraud</th>\n",
       "    </tr>\n",
       "  </thead>\n",
       "  <tbody>\n",
       "    <tr>\n",
       "      <th>0</th>\n",
       "      <td>1</td>\n",
       "      <td>PAYMENT</td>\n",
       "      <td>9839.640</td>\n",
       "      <td>C1231006815</td>\n",
       "      <td>170136.000</td>\n",
       "      <td>160296.360</td>\n",
       "      <td>M1979787155</td>\n",
       "      <td>0.000</td>\n",
       "      <td>0.000</td>\n",
       "      <td>0</td>\n",
       "      <td>0</td>\n",
       "    </tr>\n",
       "    <tr>\n",
       "      <th>1</th>\n",
       "      <td>1</td>\n",
       "      <td>PAYMENT</td>\n",
       "      <td>1864.280</td>\n",
       "      <td>C1666544295</td>\n",
       "      <td>21249.000</td>\n",
       "      <td>19384.720</td>\n",
       "      <td>M2044282225</td>\n",
       "      <td>0.000</td>\n",
       "      <td>0.000</td>\n",
       "      <td>0</td>\n",
       "      <td>0</td>\n",
       "    </tr>\n",
       "    <tr>\n",
       "      <th>2</th>\n",
       "      <td>1</td>\n",
       "      <td>TRANSFER</td>\n",
       "      <td>181.000</td>\n",
       "      <td>C1305486145</td>\n",
       "      <td>181.000</td>\n",
       "      <td>0.000</td>\n",
       "      <td>C553264065</td>\n",
       "      <td>0.000</td>\n",
       "      <td>0.000</td>\n",
       "      <td>1</td>\n",
       "      <td>0</td>\n",
       "    </tr>\n",
       "    <tr>\n",
       "      <th>3</th>\n",
       "      <td>1</td>\n",
       "      <td>CASH_OUT</td>\n",
       "      <td>181.000</td>\n",
       "      <td>C840083671</td>\n",
       "      <td>181.000</td>\n",
       "      <td>0.000</td>\n",
       "      <td>C38997010</td>\n",
       "      <td>21182.000</td>\n",
       "      <td>0.000</td>\n",
       "      <td>1</td>\n",
       "      <td>0</td>\n",
       "    </tr>\n",
       "    <tr>\n",
       "      <th>4</th>\n",
       "      <td>1</td>\n",
       "      <td>PAYMENT</td>\n",
       "      <td>11668.140</td>\n",
       "      <td>C2048537720</td>\n",
       "      <td>41554.000</td>\n",
       "      <td>29885.860</td>\n",
       "      <td>M1230701703</td>\n",
       "      <td>0.000</td>\n",
       "      <td>0.000</td>\n",
       "      <td>0</td>\n",
       "      <td>0</td>\n",
       "    </tr>\n",
       "  </tbody>\n",
       "</table>\n",
       "</div>"
      ],
      "text/plain": [
       "   step      type    amount     nameOrig  oldbalanceOrg  newbalanceOrig  \\\n",
       "0     1   PAYMENT  9839.640  C1231006815     170136.000      160296.360   \n",
       "1     1   PAYMENT  1864.280  C1666544295      21249.000       19384.720   \n",
       "2     1  TRANSFER   181.000  C1305486145        181.000           0.000   \n",
       "3     1  CASH_OUT   181.000   C840083671        181.000           0.000   \n",
       "4     1   PAYMENT 11668.140  C2048537720      41554.000       29885.860   \n",
       "\n",
       "      nameDest  oldbalanceDest  newbalanceDest  isFraud  isFlaggedFraud  \n",
       "0  M1979787155           0.000           0.000        0               0  \n",
       "1  M2044282225           0.000           0.000        0               0  \n",
       "2   C553264065           0.000           0.000        1               0  \n",
       "3    C38997010       21182.000           0.000        1               0  \n",
       "4  M1230701703           0.000           0.000        0               0  "
      ]
     },
     "execution_count": 4,
     "metadata": {},
     "output_type": "execute_result"
    }
   ],
   "source": [
    "df.head()"
   ]
  },
  {
   "cell_type": "markdown",
   "id": "0f72cd19",
   "metadata": {},
   "source": [
    "Analizing & Visualizing Dataset\n"
   ]
  },
  {
   "cell_type": "code",
   "execution_count": 5,
   "id": "645d1070",
   "metadata": {},
   "outputs": [
    {
     "name": "stdout",
     "output_type": "stream",
     "text": [
      "<class 'pandas.core.frame.DataFrame'>\n",
      "RangeIndex: 6362620 entries, 0 to 6362619\n",
      "Data columns (total 11 columns):\n",
      " #   Column          Dtype  \n",
      "---  ------          -----  \n",
      " 0   step            int64  \n",
      " 1   type            object \n",
      " 2   amount          float64\n",
      " 3   nameOrig        object \n",
      " 4   oldbalanceOrg   float64\n",
      " 5   newbalanceOrig  float64\n",
      " 6   nameDest        object \n",
      " 7   oldbalanceDest  float64\n",
      " 8   newbalanceDest  float64\n",
      " 9   isFraud         int64  \n",
      " 10  isFlaggedFraud  int64  \n",
      "dtypes: float64(5), int64(3), object(3)\n",
      "memory usage: 534.0+ MB\n"
     ]
    }
   ],
   "source": [
    "df.info()"
   ]
  },
  {
   "cell_type": "code",
   "execution_count": 6,
   "id": "8073bcb3",
   "metadata": {},
   "outputs": [
    {
     "data": {
      "text/html": [
       "<div>\n",
       "<style scoped>\n",
       "    .dataframe tbody tr th:only-of-type {\n",
       "        vertical-align: middle;\n",
       "    }\n",
       "\n",
       "    .dataframe tbody tr th {\n",
       "        vertical-align: top;\n",
       "    }\n",
       "\n",
       "    .dataframe thead th {\n",
       "        text-align: right;\n",
       "    }\n",
       "</style>\n",
       "<table border=\"1\" class=\"dataframe\">\n",
       "  <thead>\n",
       "    <tr style=\"text-align: right;\">\n",
       "      <th></th>\n",
       "      <th>step</th>\n",
       "      <th>amount</th>\n",
       "      <th>oldbalanceOrg</th>\n",
       "      <th>newbalanceOrig</th>\n",
       "      <th>oldbalanceDest</th>\n",
       "      <th>newbalanceDest</th>\n",
       "      <th>isFraud</th>\n",
       "      <th>isFlaggedFraud</th>\n",
       "    </tr>\n",
       "  </thead>\n",
       "  <tbody>\n",
       "    <tr>\n",
       "      <th>count</th>\n",
       "      <td>6362620.000</td>\n",
       "      <td>6362620.000</td>\n",
       "      <td>6362620.000</td>\n",
       "      <td>6362620.000</td>\n",
       "      <td>6362620.000</td>\n",
       "      <td>6362620.000</td>\n",
       "      <td>6362620.000</td>\n",
       "      <td>6362620.000</td>\n",
       "    </tr>\n",
       "    <tr>\n",
       "      <th>mean</th>\n",
       "      <td>243.397</td>\n",
       "      <td>179861.904</td>\n",
       "      <td>833883.104</td>\n",
       "      <td>855113.669</td>\n",
       "      <td>1100701.667</td>\n",
       "      <td>1224996.398</td>\n",
       "      <td>0.001</td>\n",
       "      <td>0.000</td>\n",
       "    </tr>\n",
       "    <tr>\n",
       "      <th>std</th>\n",
       "      <td>142.332</td>\n",
       "      <td>603858.231</td>\n",
       "      <td>2888242.673</td>\n",
       "      <td>2924048.503</td>\n",
       "      <td>3399180.113</td>\n",
       "      <td>3674128.942</td>\n",
       "      <td>0.036</td>\n",
       "      <td>0.002</td>\n",
       "    </tr>\n",
       "    <tr>\n",
       "      <th>min</th>\n",
       "      <td>1.000</td>\n",
       "      <td>0.000</td>\n",
       "      <td>0.000</td>\n",
       "      <td>0.000</td>\n",
       "      <td>0.000</td>\n",
       "      <td>0.000</td>\n",
       "      <td>0.000</td>\n",
       "      <td>0.000</td>\n",
       "    </tr>\n",
       "    <tr>\n",
       "      <th>25%</th>\n",
       "      <td>156.000</td>\n",
       "      <td>13389.570</td>\n",
       "      <td>0.000</td>\n",
       "      <td>0.000</td>\n",
       "      <td>0.000</td>\n",
       "      <td>0.000</td>\n",
       "      <td>0.000</td>\n",
       "      <td>0.000</td>\n",
       "    </tr>\n",
       "    <tr>\n",
       "      <th>50%</th>\n",
       "      <td>239.000</td>\n",
       "      <td>74871.940</td>\n",
       "      <td>14208.000</td>\n",
       "      <td>0.000</td>\n",
       "      <td>132705.665</td>\n",
       "      <td>214661.440</td>\n",
       "      <td>0.000</td>\n",
       "      <td>0.000</td>\n",
       "    </tr>\n",
       "    <tr>\n",
       "      <th>75%</th>\n",
       "      <td>335.000</td>\n",
       "      <td>208721.478</td>\n",
       "      <td>107315.175</td>\n",
       "      <td>144258.410</td>\n",
       "      <td>943036.708</td>\n",
       "      <td>1111909.250</td>\n",
       "      <td>0.000</td>\n",
       "      <td>0.000</td>\n",
       "    </tr>\n",
       "    <tr>\n",
       "      <th>max</th>\n",
       "      <td>743.000</td>\n",
       "      <td>92445516.640</td>\n",
       "      <td>59585040.370</td>\n",
       "      <td>49585040.370</td>\n",
       "      <td>356015889.350</td>\n",
       "      <td>356179278.920</td>\n",
       "      <td>1.000</td>\n",
       "      <td>1.000</td>\n",
       "    </tr>\n",
       "  </tbody>\n",
       "</table>\n",
       "</div>"
      ],
      "text/plain": [
       "             step       amount  oldbalanceOrg  newbalanceOrig  oldbalanceDest  \\\n",
       "count 6362620.000  6362620.000    6362620.000     6362620.000     6362620.000   \n",
       "mean      243.397   179861.904     833883.104      855113.669     1100701.667   \n",
       "std       142.332   603858.231    2888242.673     2924048.503     3399180.113   \n",
       "min         1.000        0.000          0.000           0.000           0.000   \n",
       "25%       156.000    13389.570          0.000           0.000           0.000   \n",
       "50%       239.000    74871.940      14208.000           0.000      132705.665   \n",
       "75%       335.000   208721.478     107315.175      144258.410      943036.708   \n",
       "max       743.000 92445516.640   59585040.370    49585040.370   356015889.350   \n",
       "\n",
       "       newbalanceDest     isFraud  isFlaggedFraud  \n",
       "count     6362620.000 6362620.000     6362620.000  \n",
       "mean      1224996.398       0.001           0.000  \n",
       "std       3674128.942       0.036           0.002  \n",
       "min             0.000       0.000           0.000  \n",
       "25%             0.000       0.000           0.000  \n",
       "50%        214661.440       0.000           0.000  \n",
       "75%       1111909.250       0.000           0.000  \n",
       "max     356179278.920       1.000           1.000  "
      ]
     },
     "execution_count": 6,
     "metadata": {},
     "output_type": "execute_result"
    }
   ],
   "source": [
    "df.describe()"
   ]
  },
  {
   "cell_type": "code",
   "execution_count": 7,
   "id": "76ea5fa6",
   "metadata": {},
   "outputs": [
    {
     "data": {
      "text/plain": [
       "(6362620, 11)"
      ]
     },
     "execution_count": 7,
     "metadata": {},
     "output_type": "execute_result"
    }
   ],
   "source": [
    "df.shape"
   ]
  },
  {
   "cell_type": "code",
   "execution_count": 8,
   "id": "14da1446",
   "metadata": {},
   "outputs": [
    {
     "data": {
      "text/plain": [
       "step              0\n",
       "type              0\n",
       "amount            0\n",
       "nameOrig          0\n",
       "oldbalanceOrg     0\n",
       "newbalanceOrig    0\n",
       "nameDest          0\n",
       "oldbalanceDest    0\n",
       "newbalanceDest    0\n",
       "isFraud           0\n",
       "isFlaggedFraud    0\n",
       "dtype: int64"
      ]
     },
     "execution_count": 8,
     "metadata": {},
     "output_type": "execute_result"
    }
   ],
   "source": [
    "df.isnull().sum()"
   ]
  },
  {
   "cell_type": "code",
   "execution_count": 9,
   "id": "3f5cd548",
   "metadata": {},
   "outputs": [
    {
     "data": {
      "text/plain": [
       "Index(['step', 'type', 'amount', 'nameOrig', 'oldbalanceOrg', 'newbalanceOrig',\n",
       "       'nameDest', 'oldbalanceDest', 'newbalanceDest', 'isFraud',\n",
       "       'isFlaggedFraud'],\n",
       "      dtype='object')"
      ]
     },
     "execution_count": 9,
     "metadata": {},
     "output_type": "execute_result"
    }
   ],
   "source": [
    "df.columns"
   ]
  },
  {
   "cell_type": "code",
   "execution_count": 10,
   "id": "36e45f5e",
   "metadata": {},
   "outputs": [
    {
     "data": {
      "text/plain": [
       "step                int64\n",
       "type               object\n",
       "amount            float64\n",
       "nameOrig           object\n",
       "oldbalanceOrg     float64\n",
       "newbalanceOrig    float64\n",
       "nameDest           object\n",
       "oldbalanceDest    float64\n",
       "newbalanceDest    float64\n",
       "isFraud             int64\n",
       "isFlaggedFraud      int64\n",
       "dtype: object"
      ]
     },
     "execution_count": 10,
     "metadata": {},
     "output_type": "execute_result"
    }
   ],
   "source": [
    "df.dtypes"
   ]
  },
  {
   "cell_type": "code",
   "execution_count": 11,
   "id": "24303254",
   "metadata": {},
   "outputs": [
    {
     "data": {
      "text/plain": [
       "array([0, 1], dtype=int64)"
      ]
     },
     "execution_count": 11,
     "metadata": {},
     "output_type": "execute_result"
    }
   ],
   "source": [
    "df['isFraud'].unique() "
   ]
  },
  {
   "cell_type": "code",
   "execution_count": 12,
   "id": "f0c62a61",
   "metadata": {},
   "outputs": [
    {
     "data": {
      "text/plain": [
       "array([0, 1], dtype=int64)"
      ]
     },
     "execution_count": 12,
     "metadata": {},
     "output_type": "execute_result"
    }
   ],
   "source": [
    "df['isFlaggedFraud'].unique()"
   ]
  },
  {
   "cell_type": "code",
   "execution_count": 13,
   "id": "e8680c36",
   "metadata": {},
   "outputs": [
    {
     "data": {
      "text/plain": [
       "CASH_OUT    2237500\n",
       "PAYMENT     2151495\n",
       "CASH_IN     1399284\n",
       "TRANSFER     532909\n",
       "DEBIT         41432\n",
       "Name: type, dtype: int64"
      ]
     },
     "execution_count": 13,
     "metadata": {},
     "output_type": "execute_result"
    }
   ],
   "source": [
    "df.type.value_counts()"
   ]
  },
  {
   "cell_type": "code",
   "execution_count": 14,
   "id": "2c4dcc6d",
   "metadata": {},
   "outputs": [
    {
     "data": {
      "image/png": "[encoded data removed]",
      "text/plain": [
       "<Figure size 864x432 with 1 Axes>"
      ]
     },
     "metadata": {
      "needs_background": "light"
     },
     "output_type": "display_data"
    }
   ],
   "source": [
    "plt.figure(figsize=[12,6])\n",
    "df.type.value_counts(normalize=True).plot.bar()\n",
    "plt.show()"
   ]
  },
  {
   "cell_type": "code",
   "execution_count": 15,
   "id": "c8f47218",
   "metadata": {},
   "outputs": [
    {
     "data": {
      "image/png": "[encoded data removed]",
      "text/plain": [
       "<Figure size 720x720 with 1 Axes>"
      ]
     },
     "metadata": {},
     "output_type": "display_data"
    }
   ],
   "source": [
    "# Pie Chart for Transactions types\n",
    "\n",
    "labels = ['Cash-out', 'Payment', 'Cash-in', 'Transfer', 'Debit']\n",
    "colors = ['Blue', 'Red', 'Green', 'Yellow', 'Violet']\n",
    "size = [2237500, 2151495, 1399284, 532909, 41432]\n",
    "explode = [0.05, 0.05, 0.05, 0.05, 0.05]\n",
    "\n",
    "plt.figure(figsize=[10,10])\n",
    "plt.pie(size, colors = colors, labels = labels, shadow = False, explode = explode,)\n",
    "plt.title('Types of Transactions', fontsize = 20)\n",
    "plt.axis('off')\n",
    "plt.legend()\n",
    "plt.show()"
   ]
  },
  {
   "cell_type": "code",
   "execution_count": 16,
   "id": "534b549c",
   "metadata": {},
   "outputs": [
    {
     "data": {
      "text/plain": [
       "0    6362604\n",
       "1         16\n",
       "Name: isFlaggedFraud, dtype: int64"
      ]
     },
     "execution_count": 16,
     "metadata": {},
     "output_type": "execute_result"
    }
   ],
   "source": [
    "df.isFlaggedFraud.value_counts()"
   ]
  },
  {
   "cell_type": "code",
   "execution_count": 17,
   "id": "3c6613a6",
   "metadata": {},
   "outputs": [
    {
     "data": {
      "text/plain": [
       "0    6354407\n",
       "1       8213\n",
       "Name: isFraud, dtype: int64"
      ]
     },
     "execution_count": 17,
     "metadata": {},
     "output_type": "execute_result"
    }
   ],
   "source": [
    "df.isFraud.value_counts()"
   ]
  },
  {
   "cell_type": "code",
   "execution_count": 18,
   "id": "69d4487d",
   "metadata": {},
   "outputs": [
    {
     "data": {
      "image/png": "[encoded data removed]",
      "text/plain": [
       "<Figure size 1080x576 with 1 Axes>"
      ]
     },
     "metadata": {
      "needs_background": "light"
     },
     "output_type": "display_data"
    }
   ],
   "source": [
    "plt.figure(figsize=[15,8])\n",
    "df.amount.value_counts().head(10).plot.bar()\n",
    "plt.title('Common Transaction Values', fontsize = 25)\n",
    "plt.xlabel('AMOUNT')\n",
    "plt.ylabel('COUNT')\n",
    "plt.show()"
   ]
  },
  {
   "cell_type": "code",
   "execution_count": 19,
   "id": "c3bdded3",
   "metadata": {},
   "outputs": [
    {
     "data": {
      "image/png": "[encoded data removed]",
      "text/plain": [
       "<Figure size 1440x1440 with 9 Axes>"
      ]
     },
     "metadata": {
      "needs_background": "light"
     },
     "output_type": "display_data"
    }
   ],
   "source": [
    "#Plotting the data distribution plots\n",
    "p = df.hist(figsize = (20,20))"
   ]
  },
  {
   "cell_type": "code",
   "execution_count": 20,
   "id": "72cf9295",
   "metadata": {},
   "outputs": [
    {
     "data": {
      "text/plain": [
       "CASH_OUT    2237500\n",
       "PAYMENT     2151495\n",
       "CASH_IN     1399284\n",
       "TRANSFER     532909\n",
       "DEBIT         41432\n",
       "Name: type, dtype: int64"
      ]
     },
     "execution_count": 20,
     "metadata": {},
     "output_type": "execute_result"
    }
   ],
   "source": [
    "df['type'].value_counts()"
   ]
  },
  {
   "cell_type": "code",
   "execution_count": 21,
   "id": "d4380346",
   "metadata": {},
   "outputs": [
    {
     "data": {
      "text/plain": [
       "92445516.64"
      ]
     },
     "execution_count": 21,
     "metadata": {},
     "output_type": "execute_result"
    }
   ],
   "source": [
    "max(df.amount)"
   ]
  },
  {
   "cell_type": "code",
   "execution_count": 22,
   "id": "563a3eb9",
   "metadata": {},
   "outputs": [
    {
     "data": {
      "text/plain": [
       "0.0"
      ]
     },
     "execution_count": 22,
     "metadata": {},
     "output_type": "execute_result"
    }
   ],
   "source": [
    "min(df.amount)"
   ]
  },
  {
   "cell_type": "code",
   "execution_count": 23,
   "id": "c1ab6bd3",
   "metadata": {},
   "outputs": [
    {
     "data": {
      "text/plain": [
       "count    6362620.000\n",
       "mean      179861.904\n",
       "std       603858.231\n",
       "min            0.000\n",
       "25%        13389.570\n",
       "50%        74871.940\n",
       "75%       208721.478\n",
       "max     92445516.640\n",
       "Name: amount, dtype: float64"
      ]
     },
     "execution_count": 23,
     "metadata": {},
     "output_type": "execute_result"
    }
   ],
   "source": [
    "df.amount.describe()"
   ]
  },
  {
   "cell_type": "code",
   "execution_count": 24,
   "id": "f5829f85",
   "metadata": {},
   "outputs": [
    {
     "data": {
      "image/png": "[encoded data removed]",
      "text/plain": [
       "<Figure size 720x504 with 2 Axes>"
      ]
     },
     "metadata": {
      "needs_background": "light"
     },
     "output_type": "display_data"
    }
   ],
   "source": [
    "fig, ax = plt.subplots(figsize=(10,7))     \n",
    "sns.set(font_scale=1.4)\n",
    "sns.heatmap(data=df[['newbalanceOrig','newbalanceDest','oldbalanceOrg','oldbalanceDest']].corr(),annot=True, ax=ax)\n",
    "plt.show()\n"
   ]
  },
  {
   "cell_type": "code",
   "execution_count": 25,
   "id": "1a300430",
   "metadata": {},
   "outputs": [
    {
     "data": {
      "text/html": [
       "<div>\n",
       "<style scoped>\n",
       "    .dataframe tbody tr th:only-of-type {\n",
       "        vertical-align: middle;\n",
       "    }\n",
       "\n",
       "    .dataframe tbody tr th {\n",
       "        vertical-align: top;\n",
       "    }\n",
       "\n",
       "    .dataframe thead th {\n",
       "        text-align: right;\n",
       "    }\n",
       "</style>\n",
       "<table border=\"1\" class=\"dataframe\">\n",
       "  <thead>\n",
       "    <tr style=\"text-align: right;\">\n",
       "      <th></th>\n",
       "      <th>step</th>\n",
       "      <th>type</th>\n",
       "      <th>amount</th>\n",
       "      <th>nameOrig</th>\n",
       "      <th>oldbalanceOrg</th>\n",
       "      <th>newbalanceOrig</th>\n",
       "      <th>nameDest</th>\n",
       "      <th>oldbalanceDest</th>\n",
       "      <th>newbalanceDest</th>\n",
       "      <th>isFraud</th>\n",
       "      <th>isFlaggedFraud</th>\n",
       "    </tr>\n",
       "  </thead>\n",
       "  <tbody>\n",
       "    <tr>\n",
       "      <th>463075</th>\n",
       "      <td>19</td>\n",
       "      <td>TRANSFER</td>\n",
       "      <td>25200.880</td>\n",
       "      <td>C2118186228</td>\n",
       "      <td>10057.000</td>\n",
       "      <td>0.000</td>\n",
       "      <td>C793850902</td>\n",
       "      <td>3518235.110</td>\n",
       "      <td>5720699.680</td>\n",
       "      <td>0</td>\n",
       "      <td>0</td>\n",
       "    </tr>\n",
       "    <tr>\n",
       "      <th>5504611</th>\n",
       "      <td>380</td>\n",
       "      <td>TRANSFER</td>\n",
       "      <td>722876.540</td>\n",
       "      <td>C106403497</td>\n",
       "      <td>0.000</td>\n",
       "      <td>0.000</td>\n",
       "      <td>C520492402</td>\n",
       "      <td>1978471.880</td>\n",
       "      <td>2701348.420</td>\n",
       "      <td>0</td>\n",
       "      <td>0</td>\n",
       "    </tr>\n",
       "    <tr>\n",
       "      <th>2082986</th>\n",
       "      <td>182</td>\n",
       "      <td>TRANSFER</td>\n",
       "      <td>373383.030</td>\n",
       "      <td>C1354106176</td>\n",
       "      <td>28608.000</td>\n",
       "      <td>0.000</td>\n",
       "      <td>C2069574496</td>\n",
       "      <td>0.000</td>\n",
       "      <td>373383.030</td>\n",
       "      <td>0</td>\n",
       "      <td>0</td>\n",
       "    </tr>\n",
       "    <tr>\n",
       "      <th>1419675</th>\n",
       "      <td>139</td>\n",
       "      <td>TRANSFER</td>\n",
       "      <td>107911.100</td>\n",
       "      <td>C520322418</td>\n",
       "      <td>0.000</td>\n",
       "      <td>0.000</td>\n",
       "      <td>C1694394149</td>\n",
       "      <td>2552709.520</td>\n",
       "      <td>2660620.620</td>\n",
       "      <td>0</td>\n",
       "      <td>0</td>\n",
       "    </tr>\n",
       "    <tr>\n",
       "      <th>3326470</th>\n",
       "      <td>253</td>\n",
       "      <td>TRANSFER</td>\n",
       "      <td>1059978.860</td>\n",
       "      <td>C774941873</td>\n",
       "      <td>122570.000</td>\n",
       "      <td>0.000</td>\n",
       "      <td>C751059324</td>\n",
       "      <td>493052.490</td>\n",
       "      <td>1553031.350</td>\n",
       "      <td>0</td>\n",
       "      <td>0</td>\n",
       "    </tr>\n",
       "    <tr>\n",
       "      <th>1228250</th>\n",
       "      <td>133</td>\n",
       "      <td>TRANSFER</td>\n",
       "      <td>758806.980</td>\n",
       "      <td>C1766967346</td>\n",
       "      <td>0.000</td>\n",
       "      <td>0.000</td>\n",
       "      <td>C1575675375</td>\n",
       "      <td>6748876.280</td>\n",
       "      <td>7507683.260</td>\n",
       "      <td>0</td>\n",
       "      <td>0</td>\n",
       "    </tr>\n",
       "    <tr>\n",
       "      <th>3188933</th>\n",
       "      <td>240</td>\n",
       "      <td>TRANSFER</td>\n",
       "      <td>1396370.320</td>\n",
       "      <td>C733962109</td>\n",
       "      <td>0.000</td>\n",
       "      <td>0.000</td>\n",
       "      <td>C67809887</td>\n",
       "      <td>2792727.930</td>\n",
       "      <td>4189098.250</td>\n",
       "      <td>0</td>\n",
       "      <td>0</td>\n",
       "    </tr>\n",
       "    <tr>\n",
       "      <th>1305892</th>\n",
       "      <td>136</td>\n",
       "      <td>TRANSFER</td>\n",
       "      <td>477078.520</td>\n",
       "      <td>C309698123</td>\n",
       "      <td>0.000</td>\n",
       "      <td>0.000</td>\n",
       "      <td>C1288988472</td>\n",
       "      <td>1020952.730</td>\n",
       "      <td>1082189.730</td>\n",
       "      <td>0</td>\n",
       "      <td>0</td>\n",
       "    </tr>\n",
       "    <tr>\n",
       "      <th>34558</th>\n",
       "      <td>8</td>\n",
       "      <td>TRANSFER</td>\n",
       "      <td>258184.020</td>\n",
       "      <td>C1287866583</td>\n",
       "      <td>0.000</td>\n",
       "      <td>0.000</td>\n",
       "      <td>C1027043112</td>\n",
       "      <td>330947.870</td>\n",
       "      <td>589131.890</td>\n",
       "      <td>0</td>\n",
       "      <td>0</td>\n",
       "    </tr>\n",
       "    <tr>\n",
       "      <th>1863953</th>\n",
       "      <td>164</td>\n",
       "      <td>TRANSFER</td>\n",
       "      <td>484408.090</td>\n",
       "      <td>C241812047</td>\n",
       "      <td>22407.000</td>\n",
       "      <td>0.000</td>\n",
       "      <td>C1285953370</td>\n",
       "      <td>0.000</td>\n",
       "      <td>127697.030</td>\n",
       "      <td>0</td>\n",
       "      <td>0</td>\n",
       "    </tr>\n",
       "  </tbody>\n",
       "</table>\n",
       "</div>"
      ],
      "text/plain": [
       "         step      type      amount     nameOrig  oldbalanceOrg  \\\n",
       "463075     19  TRANSFER   25200.880  C2118186228      10057.000   \n",
       "5504611   380  TRANSFER  722876.540   C106403497          0.000   \n",
       "2082986   182  TRANSFER  373383.030  C1354106176      28608.000   \n",
       "1419675   139  TRANSFER  107911.100   C520322418          0.000   \n",
       "3326470   253  TRANSFER 1059978.860   C774941873     122570.000   \n",
       "1228250   133  TRANSFER  758806.980  C1766967346          0.000   \n",
       "3188933   240  TRANSFER 1396370.320   C733962109          0.000   \n",
       "1305892   136  TRANSFER  477078.520   C309698123          0.000   \n",
       "34558       8  TRANSFER  258184.020  C1287866583          0.000   \n",
       "1863953   164  TRANSFER  484408.090   C241812047      22407.000   \n",
       "\n",
       "         newbalanceOrig     nameDest  oldbalanceDest  newbalanceDest  isFraud  \\\n",
       "463075            0.000   C793850902     3518235.110     5720699.680        0   \n",
       "5504611           0.000   C520492402     1978471.880     2701348.420        0   \n",
       "2082986           0.000  C2069574496           0.000      373383.030        0   \n",
       "1419675           0.000  C1694394149     2552709.520     2660620.620        0   \n",
       "3326470           0.000   C751059324      493052.490     1553031.350        0   \n",
       "1228250           0.000  C1575675375     6748876.280     7507683.260        0   \n",
       "3188933           0.000    C67809887     2792727.930     4189098.250        0   \n",
       "1305892           0.000  C1288988472     1020952.730     1082189.730        0   \n",
       "34558             0.000  C1027043112      330947.870      589131.890        0   \n",
       "1863953           0.000  C1285953370           0.000      127697.030        0   \n",
       "\n",
       "         isFlaggedFraud  \n",
       "463075                0  \n",
       "5504611               0  \n",
       "2082986               0  \n",
       "1419675               0  \n",
       "3326470               0  \n",
       "1228250               0  \n",
       "3188933               0  \n",
       "1305892               0  \n",
       "34558                 0  \n",
       "1863953               0  "
      ]
     },
     "execution_count": 25,
     "metadata": {},
     "output_type": "execute_result"
    }
   ],
   "source": [
    "# 10 Transactions of type= TRANSFER \n",
    "\n",
    "df[df['type'] == 'TRANSFER'].sample(10)"
   ]
  },
  {
   "cell_type": "code",
   "execution_count": 26,
   "id": "b9321412",
   "metadata": {},
   "outputs": [
    {
     "data": {
      "text/html": [
       "<div>\n",
       "<style scoped>\n",
       "    .dataframe tbody tr th:only-of-type {\n",
       "        vertical-align: middle;\n",
       "    }\n",
       "\n",
       "    .dataframe tbody tr th {\n",
       "        vertical-align: top;\n",
       "    }\n",
       "\n",
       "    .dataframe thead th {\n",
       "        text-align: right;\n",
       "    }\n",
       "</style>\n",
       "<table border=\"1\" class=\"dataframe\">\n",
       "  <thead>\n",
       "    <tr style=\"text-align: right;\">\n",
       "      <th></th>\n",
       "      <th>step</th>\n",
       "      <th>type</th>\n",
       "      <th>amount</th>\n",
       "      <th>nameOrig</th>\n",
       "      <th>oldbalanceOrg</th>\n",
       "      <th>newbalanceOrig</th>\n",
       "      <th>nameDest</th>\n",
       "      <th>oldbalanceDest</th>\n",
       "      <th>newbalanceDest</th>\n",
       "      <th>isFraud</th>\n",
       "      <th>isFlaggedFraud</th>\n",
       "    </tr>\n",
       "  </thead>\n",
       "  <tbody>\n",
       "    <tr>\n",
       "      <th>2877930</th>\n",
       "      <td>228</td>\n",
       "      <td>CASH_OUT</td>\n",
       "      <td>214480.430</td>\n",
       "      <td>C1908973262</td>\n",
       "      <td>22412.450</td>\n",
       "      <td>0.000</td>\n",
       "      <td>C262046076</td>\n",
       "      <td>1021962.020</td>\n",
       "      <td>1236442.460</td>\n",
       "      <td>0</td>\n",
       "      <td>0</td>\n",
       "    </tr>\n",
       "    <tr>\n",
       "      <th>3677403</th>\n",
       "      <td>276</td>\n",
       "      <td>CASH_OUT</td>\n",
       "      <td>5988.860</td>\n",
       "      <td>C1334763905</td>\n",
       "      <td>198200.000</td>\n",
       "      <td>192211.140</td>\n",
       "      <td>C1037031013</td>\n",
       "      <td>430407.520</td>\n",
       "      <td>436396.390</td>\n",
       "      <td>0</td>\n",
       "      <td>0</td>\n",
       "    </tr>\n",
       "    <tr>\n",
       "      <th>3731160</th>\n",
       "      <td>278</td>\n",
       "      <td>CASH_OUT</td>\n",
       "      <td>88283.860</td>\n",
       "      <td>C1631010639</td>\n",
       "      <td>0.000</td>\n",
       "      <td>0.000</td>\n",
       "      <td>C1020850954</td>\n",
       "      <td>1614736.550</td>\n",
       "      <td>1703020.410</td>\n",
       "      <td>0</td>\n",
       "      <td>0</td>\n",
       "    </tr>\n",
       "    <tr>\n",
       "      <th>2207914</th>\n",
       "      <td>186</td>\n",
       "      <td>CASH_OUT</td>\n",
       "      <td>366027.600</td>\n",
       "      <td>C34669019</td>\n",
       "      <td>0.000</td>\n",
       "      <td>0.000</td>\n",
       "      <td>C1545086014</td>\n",
       "      <td>719009.420</td>\n",
       "      <td>1385091.520</td>\n",
       "      <td>0</td>\n",
       "      <td>0</td>\n",
       "    </tr>\n",
       "    <tr>\n",
       "      <th>5604929</th>\n",
       "      <td>394</td>\n",
       "      <td>CASH_OUT</td>\n",
       "      <td>111523.640</td>\n",
       "      <td>C208469290</td>\n",
       "      <td>0.000</td>\n",
       "      <td>0.000</td>\n",
       "      <td>C935216896</td>\n",
       "      <td>1775825.270</td>\n",
       "      <td>1887348.910</td>\n",
       "      <td>0</td>\n",
       "      <td>0</td>\n",
       "    </tr>\n",
       "    <tr>\n",
       "      <th>459746</th>\n",
       "      <td>19</td>\n",
       "      <td>CASH_OUT</td>\n",
       "      <td>133302.160</td>\n",
       "      <td>C1831561509</td>\n",
       "      <td>69235.120</td>\n",
       "      <td>0.000</td>\n",
       "      <td>C1107699034</td>\n",
       "      <td>0.000</td>\n",
       "      <td>133302.160</td>\n",
       "      <td>0</td>\n",
       "      <td>0</td>\n",
       "    </tr>\n",
       "    <tr>\n",
       "      <th>5288077</th>\n",
       "      <td>373</td>\n",
       "      <td>CASH_OUT</td>\n",
       "      <td>67610.360</td>\n",
       "      <td>C1270593115</td>\n",
       "      <td>14989.000</td>\n",
       "      <td>0.000</td>\n",
       "      <td>C997356962</td>\n",
       "      <td>457662.570</td>\n",
       "      <td>525272.930</td>\n",
       "      <td>0</td>\n",
       "      <td>0</td>\n",
       "    </tr>\n",
       "    <tr>\n",
       "      <th>4156796</th>\n",
       "      <td>303</td>\n",
       "      <td>CASH_OUT</td>\n",
       "      <td>176105.700</td>\n",
       "      <td>C1109267488</td>\n",
       "      <td>0.000</td>\n",
       "      <td>0.000</td>\n",
       "      <td>C870092442</td>\n",
       "      <td>458758.550</td>\n",
       "      <td>634864.250</td>\n",
       "      <td>0</td>\n",
       "      <td>0</td>\n",
       "    </tr>\n",
       "    <tr>\n",
       "      <th>3871754</th>\n",
       "      <td>283</td>\n",
       "      <td>CASH_OUT</td>\n",
       "      <td>122207.040</td>\n",
       "      <td>C229316874</td>\n",
       "      <td>0.000</td>\n",
       "      <td>0.000</td>\n",
       "      <td>C720263069</td>\n",
       "      <td>1057706.070</td>\n",
       "      <td>1179913.100</td>\n",
       "      <td>0</td>\n",
       "      <td>0</td>\n",
       "    </tr>\n",
       "    <tr>\n",
       "      <th>2848909</th>\n",
       "      <td>227</td>\n",
       "      <td>CASH_OUT</td>\n",
       "      <td>384725.270</td>\n",
       "      <td>C2033328811</td>\n",
       "      <td>4636.000</td>\n",
       "      <td>0.000</td>\n",
       "      <td>C135989989</td>\n",
       "      <td>902612.210</td>\n",
       "      <td>1338201.960</td>\n",
       "      <td>0</td>\n",
       "      <td>0</td>\n",
       "    </tr>\n",
       "  </tbody>\n",
       "</table>\n",
       "</div>"
      ],
      "text/plain": [
       "         step      type     amount     nameOrig  oldbalanceOrg  \\\n",
       "2877930   228  CASH_OUT 214480.430  C1908973262      22412.450   \n",
       "3677403   276  CASH_OUT   5988.860  C1334763905     198200.000   \n",
       "3731160   278  CASH_OUT  88283.860  C1631010639          0.000   \n",
       "2207914   186  CASH_OUT 366027.600    C34669019          0.000   \n",
       "5604929   394  CASH_OUT 111523.640   C208469290          0.000   \n",
       "459746     19  CASH_OUT 133302.160  C1831561509      69235.120   \n",
       "5288077   373  CASH_OUT  67610.360  C1270593115      14989.000   \n",
       "4156796   303  CASH_OUT 176105.700  C1109267488          0.000   \n",
       "3871754   283  CASH_OUT 122207.040   C229316874          0.000   \n",
       "2848909   227  CASH_OUT 384725.270  C2033328811       4636.000   \n",
       "\n",
       "         newbalanceOrig     nameDest  oldbalanceDest  newbalanceDest  isFraud  \\\n",
       "2877930           0.000   C262046076     1021962.020     1236442.460        0   \n",
       "3677403      192211.140  C1037031013      430407.520      436396.390        0   \n",
       "3731160           0.000  C1020850954     1614736.550     1703020.410        0   \n",
       "2207914           0.000  C1545086014      719009.420     1385091.520        0   \n",
       "5604929           0.000   C935216896     1775825.270     1887348.910        0   \n",
       "459746            0.000  C1107699034           0.000      133302.160        0   \n",
       "5288077           0.000   C997356962      457662.570      525272.930        0   \n",
       "4156796           0.000   C870092442      458758.550      634864.250        0   \n",
       "3871754           0.000   C720263069     1057706.070     1179913.100        0   \n",
       "2848909           0.000   C135989989      902612.210     1338201.960        0   \n",
       "\n",
       "         isFlaggedFraud  \n",
       "2877930               0  \n",
       "3677403               0  \n",
       "3731160               0  \n",
       "2207914               0  \n",
       "5604929               0  \n",
       "459746                0  \n",
       "5288077               0  \n",
       "4156796               0  \n",
       "3871754               0  \n",
       "2848909               0  "
      ]
     },
     "execution_count": 26,
     "metadata": {},
     "output_type": "execute_result"
    }
   ],
   "source": [
    "# 10 Transactions of type= CASH_OUT \n",
    "\n",
    "df[df['type'] == 'CASH_OUT'].sample(10)"
   ]
  },
  {
   "cell_type": "code",
   "execution_count": 27,
   "id": "f7bcf96d",
   "metadata": {},
   "outputs": [
    {
     "data": {
      "text/html": [
       "<div>\n",
       "<style scoped>\n",
       "    .dataframe tbody tr th:only-of-type {\n",
       "        vertical-align: middle;\n",
       "    }\n",
       "\n",
       "    .dataframe tbody tr th {\n",
       "        vertical-align: top;\n",
       "    }\n",
       "\n",
       "    .dataframe thead th {\n",
       "        text-align: right;\n",
       "    }\n",
       "</style>\n",
       "<table border=\"1\" class=\"dataframe\">\n",
       "  <thead>\n",
       "    <tr style=\"text-align: right;\">\n",
       "      <th></th>\n",
       "      <th>step</th>\n",
       "      <th>type</th>\n",
       "      <th>amount</th>\n",
       "      <th>nameOrig</th>\n",
       "      <th>oldbalanceOrg</th>\n",
       "      <th>newbalanceOrig</th>\n",
       "      <th>nameDest</th>\n",
       "      <th>oldbalanceDest</th>\n",
       "      <th>newbalanceDest</th>\n",
       "      <th>isFraud</th>\n",
       "      <th>isFlaggedFraud</th>\n",
       "    </tr>\n",
       "  </thead>\n",
       "  <tbody>\n",
       "    <tr>\n",
       "      <th>6362436</th>\n",
       "      <td>728</td>\n",
       "      <td>TRANSFER</td>\n",
       "      <td>3846781.010</td>\n",
       "      <td>C987072193</td>\n",
       "      <td>3846781.010</td>\n",
       "      <td>0.000</td>\n",
       "      <td>C611870654</td>\n",
       "      <td>0.000</td>\n",
       "      <td>0.000</td>\n",
       "      <td>1</td>\n",
       "      <td>0</td>\n",
       "    </tr>\n",
       "    <tr>\n",
       "      <th>1509671</th>\n",
       "      <td>145</td>\n",
       "      <td>TRANSFER</td>\n",
       "      <td>1767886.020</td>\n",
       "      <td>C1544286887</td>\n",
       "      <td>1767886.020</td>\n",
       "      <td>0.000</td>\n",
       "      <td>C436837170</td>\n",
       "      <td>0.000</td>\n",
       "      <td>0.000</td>\n",
       "      <td>1</td>\n",
       "      <td>0</td>\n",
       "    </tr>\n",
       "    <tr>\n",
       "      <th>4785658</th>\n",
       "      <td>342</td>\n",
       "      <td>TRANSFER</td>\n",
       "      <td>127018.140</td>\n",
       "      <td>C1626624594</td>\n",
       "      <td>127018.140</td>\n",
       "      <td>0.000</td>\n",
       "      <td>C136299479</td>\n",
       "      <td>0.000</td>\n",
       "      <td>0.000</td>\n",
       "      <td>1</td>\n",
       "      <td>0</td>\n",
       "    </tr>\n",
       "    <tr>\n",
       "      <th>5563719</th>\n",
       "      <td>387</td>\n",
       "      <td>TRANSFER</td>\n",
       "      <td>143501.700</td>\n",
       "      <td>C1638922233</td>\n",
       "      <td>143501.700</td>\n",
       "      <td>0.000</td>\n",
       "      <td>C1462968969</td>\n",
       "      <td>0.000</td>\n",
       "      <td>0.000</td>\n",
       "      <td>1</td>\n",
       "      <td>0</td>\n",
       "    </tr>\n",
       "    <tr>\n",
       "      <th>6054551</th>\n",
       "      <td>495</td>\n",
       "      <td>TRANSFER</td>\n",
       "      <td>797710.800</td>\n",
       "      <td>C900480774</td>\n",
       "      <td>797710.800</td>\n",
       "      <td>0.000</td>\n",
       "      <td>C667043624</td>\n",
       "      <td>0.000</td>\n",
       "      <td>0.000</td>\n",
       "      <td>1</td>\n",
       "      <td>0</td>\n",
       "    </tr>\n",
       "    <tr>\n",
       "      <th>6261322</th>\n",
       "      <td>610</td>\n",
       "      <td>TRANSFER</td>\n",
       "      <td>493538.800</td>\n",
       "      <td>C875380581</td>\n",
       "      <td>493538.800</td>\n",
       "      <td>0.000</td>\n",
       "      <td>C2141157779</td>\n",
       "      <td>0.000</td>\n",
       "      <td>0.000</td>\n",
       "      <td>1</td>\n",
       "      <td>0</td>\n",
       "    </tr>\n",
       "    <tr>\n",
       "      <th>5323781</th>\n",
       "      <td>374</td>\n",
       "      <td>TRANSFER</td>\n",
       "      <td>7466.120</td>\n",
       "      <td>C186075022</td>\n",
       "      <td>7466.120</td>\n",
       "      <td>0.000</td>\n",
       "      <td>C1001664465</td>\n",
       "      <td>0.000</td>\n",
       "      <td>0.000</td>\n",
       "      <td>1</td>\n",
       "      <td>0</td>\n",
       "    </tr>\n",
       "    <tr>\n",
       "      <th>1812967</th>\n",
       "      <td>163</td>\n",
       "      <td>TRANSFER</td>\n",
       "      <td>134194.590</td>\n",
       "      <td>C316784641</td>\n",
       "      <td>134194.590</td>\n",
       "      <td>0.000</td>\n",
       "      <td>C1951372697</td>\n",
       "      <td>0.000</td>\n",
       "      <td>0.000</td>\n",
       "      <td>1</td>\n",
       "      <td>0</td>\n",
       "    </tr>\n",
       "    <tr>\n",
       "      <th>6351219</th>\n",
       "      <td>702</td>\n",
       "      <td>TRANSFER</td>\n",
       "      <td>10000000.000</td>\n",
       "      <td>C485022724</td>\n",
       "      <td>33171085.590</td>\n",
       "      <td>23171085.590</td>\n",
       "      <td>C1852255407</td>\n",
       "      <td>0.000</td>\n",
       "      <td>0.000</td>\n",
       "      <td>1</td>\n",
       "      <td>0</td>\n",
       "    </tr>\n",
       "    <tr>\n",
       "      <th>1070160</th>\n",
       "      <td>127</td>\n",
       "      <td>TRANSFER</td>\n",
       "      <td>6339.420</td>\n",
       "      <td>C441757024</td>\n",
       "      <td>6339.420</td>\n",
       "      <td>0.000</td>\n",
       "      <td>C1633571527</td>\n",
       "      <td>0.000</td>\n",
       "      <td>0.000</td>\n",
       "      <td>1</td>\n",
       "      <td>0</td>\n",
       "    </tr>\n",
       "  </tbody>\n",
       "</table>\n",
       "</div>"
      ],
      "text/plain": [
       "         step      type       amount     nameOrig  oldbalanceOrg  \\\n",
       "6362436   728  TRANSFER  3846781.010   C987072193    3846781.010   \n",
       "1509671   145  TRANSFER  1767886.020  C1544286887    1767886.020   \n",
       "4785658   342  TRANSFER   127018.140  C1626624594     127018.140   \n",
       "5563719   387  TRANSFER   143501.700  C1638922233     143501.700   \n",
       "6054551   495  TRANSFER   797710.800   C900480774     797710.800   \n",
       "6261322   610  TRANSFER   493538.800   C875380581     493538.800   \n",
       "5323781   374  TRANSFER     7466.120   C186075022       7466.120   \n",
       "1812967   163  TRANSFER   134194.590   C316784641     134194.590   \n",
       "6351219   702  TRANSFER 10000000.000   C485022724   33171085.590   \n",
       "1070160   127  TRANSFER     6339.420   C441757024       6339.420   \n",
       "\n",
       "         newbalanceOrig     nameDest  oldbalanceDest  newbalanceDest  isFraud  \\\n",
       "6362436           0.000   C611870654           0.000           0.000        1   \n",
       "1509671           0.000   C436837170           0.000           0.000        1   \n",
       "4785658           0.000   C136299479           0.000           0.000        1   \n",
       "5563719           0.000  C1462968969           0.000           0.000        1   \n",
       "6054551           0.000   C667043624           0.000           0.000        1   \n",
       "6261322           0.000  C2141157779           0.000           0.000        1   \n",
       "5323781           0.000  C1001664465           0.000           0.000        1   \n",
       "1812967           0.000  C1951372697           0.000           0.000        1   \n",
       "6351219    23171085.590  C1852255407           0.000           0.000        1   \n",
       "1070160           0.000  C1633571527           0.000           0.000        1   \n",
       "\n",
       "         isFlaggedFraud  \n",
       "6362436               0  \n",
       "1509671               0  \n",
       "4785658               0  \n",
       "5563719               0  \n",
       "6054551               0  \n",
       "6261322               0  \n",
       "5323781               0  \n",
       "1812967               0  \n",
       "6351219               0  \n",
       "1070160               0  "
      ]
     },
     "execution_count": 27,
     "metadata": {},
     "output_type": "execute_result"
    }
   ],
   "source": [
    "# 10 Transactions of type= TRANSFER and are termed Fraud\n",
    "\n",
    "df[(df['type'] == 'TRANSFER') & (df['isFraud'] == 1)].sample(10)\n"
   ]
  },
  {
   "cell_type": "code",
   "execution_count": 28,
   "id": "ebfae5ab",
   "metadata": {},
   "outputs": [
    {
     "data": {
      "text/plain": [
       "array(['TRANSFER', 'CASH_OUT'], dtype=object)"
      ]
     },
     "execution_count": 28,
     "metadata": {},
     "output_type": "execute_result"
    }
   ],
   "source": [
    "df[df['isFraud'] == 1].type.unique()"
   ]
  },
  {
   "cell_type": "code",
   "execution_count": 29,
   "id": "1c5b889c",
   "metadata": {},
   "outputs": [
    {
     "data": {
      "text/plain": [
       "10000000.0"
      ]
     },
     "execution_count": 29,
     "metadata": {},
     "output_type": "execute_result"
    }
   ],
   "source": [
    "# Maximum amount of fraud 'TRANSFER' transaction.\n",
    "\n",
    "df[(df['type'] == 'TRANSFER') & (df['isFraud'] == 1)].amount.max()"
   ]
  },
  {
   "cell_type": "code",
   "execution_count": 30,
   "id": "9d32bdc3",
   "metadata": {},
   "outputs": [
    {
     "data": {
      "text/plain": [
       "63.8"
      ]
     },
     "execution_count": 30,
     "metadata": {},
     "output_type": "execute_result"
    }
   ],
   "source": [
    "# Minimum amount of fraud 'TRANSFER' transaction.\n",
    "\n",
    "df[(df['type'] == 'TRANSFER') & (df['isFraud'] == 1)].amount.min()"
   ]
  },
  {
   "cell_type": "code",
   "execution_count": 31,
   "id": "0fba8d6f",
   "metadata": {},
   "outputs": [
    {
     "data": {
      "text/plain": [
       "10000000.0"
      ]
     },
     "execution_count": 31,
     "metadata": {},
     "output_type": "execute_result"
    }
   ],
   "source": [
    "# Maximum amount of fraud 'CASH_OUT' transaction.\n",
    "\n",
    "df[(df['type'] == 'CASH_OUT') & (df['isFraud'] == 1)].amount.max()"
   ]
  },
  {
   "cell_type": "code",
   "execution_count": 32,
   "id": "474c56a0",
   "metadata": {},
   "outputs": [
    {
     "data": {
      "text/plain": [
       "0.0"
      ]
     },
     "execution_count": 32,
     "metadata": {},
     "output_type": "execute_result"
    }
   ],
   "source": [
    "# Minimum amount of fraud 'CASH_OUT' transaction.\n",
    "\n",
    "df[(df['type'] == 'CASH_OUT') & (df['isFraud'] == 1)].amount.min()"
   ]
  },
  {
   "cell_type": "markdown",
   "id": "f0f94154",
   "metadata": {},
   "source": [
    "# Creating a new DataFrame"
   ]
  },
  {
   "cell_type": "markdown",
   "id": "940a1f05",
   "metadata": {},
   "source": [
    "From here on we work on the dataframe where transaction-type is either 'TRANSFER' or 'CASH_OUT' as our analysis show that Fraud is committed on these two transaction types."
   ]
  },
  {
   "cell_type": "code",
   "execution_count": 33,
   "id": "79f996c8",
   "metadata": {},
   "outputs": [],
   "source": [
    "# new_df is the new Dataframe where transaction type is 'TRANSFER' & 'CASH_OUT'\n",
    "\n",
    "new_df = df[(df['type'] =='CASH_OUT') | (df['type'] == 'TRANSFER') ]"
   ]
  },
  {
   "cell_type": "code",
   "execution_count": 34,
   "id": "c67a0600",
   "metadata": {},
   "outputs": [
    {
     "data": {
      "text/plain": [
       "(2770409, 11)"
      ]
     },
     "execution_count": 34,
     "metadata": {},
     "output_type": "execute_result"
    }
   ],
   "source": [
    "new_df.shape"
   ]
  },
  {
   "cell_type": "code",
   "execution_count": 35,
   "id": "39d0e0ee",
   "metadata": {},
   "outputs": [
    {
     "data": {
      "text/html": [
       "<div>\n",
       "<style scoped>\n",
       "    .dataframe tbody tr th:only-of-type {\n",
       "        vertical-align: middle;\n",
       "    }\n",
       "\n",
       "    .dataframe tbody tr th {\n",
       "        vertical-align: top;\n",
       "    }\n",
       "\n",
       "    .dataframe thead th {\n",
       "        text-align: right;\n",
       "    }\n",
       "</style>\n",
       "<table border=\"1\" class=\"dataframe\">\n",
       "  <thead>\n",
       "    <tr style=\"text-align: right;\">\n",
       "      <th></th>\n",
       "      <th>step</th>\n",
       "      <th>type</th>\n",
       "      <th>amount</th>\n",
       "      <th>nameOrig</th>\n",
       "      <th>oldbalanceOrg</th>\n",
       "      <th>newbalanceOrig</th>\n",
       "      <th>nameDest</th>\n",
       "      <th>oldbalanceDest</th>\n",
       "      <th>newbalanceDest</th>\n",
       "      <th>isFraud</th>\n",
       "      <th>isFlaggedFraud</th>\n",
       "    </tr>\n",
       "  </thead>\n",
       "  <tbody>\n",
       "    <tr>\n",
       "      <th>2</th>\n",
       "      <td>1</td>\n",
       "      <td>TRANSFER</td>\n",
       "      <td>181.000</td>\n",
       "      <td>C1305486145</td>\n",
       "      <td>181.000</td>\n",
       "      <td>0.000</td>\n",
       "      <td>C553264065</td>\n",
       "      <td>0.000</td>\n",
       "      <td>0.000</td>\n",
       "      <td>1</td>\n",
       "      <td>0</td>\n",
       "    </tr>\n",
       "    <tr>\n",
       "      <th>3</th>\n",
       "      <td>1</td>\n",
       "      <td>CASH_OUT</td>\n",
       "      <td>181.000</td>\n",
       "      <td>C840083671</td>\n",
       "      <td>181.000</td>\n",
       "      <td>0.000</td>\n",
       "      <td>C38997010</td>\n",
       "      <td>21182.000</td>\n",
       "      <td>0.000</td>\n",
       "      <td>1</td>\n",
       "      <td>0</td>\n",
       "    </tr>\n",
       "    <tr>\n",
       "      <th>15</th>\n",
       "      <td>1</td>\n",
       "      <td>CASH_OUT</td>\n",
       "      <td>229133.940</td>\n",
       "      <td>C905080434</td>\n",
       "      <td>15325.000</td>\n",
       "      <td>0.000</td>\n",
       "      <td>C476402209</td>\n",
       "      <td>5083.000</td>\n",
       "      <td>51513.440</td>\n",
       "      <td>0</td>\n",
       "      <td>0</td>\n",
       "    </tr>\n",
       "    <tr>\n",
       "      <th>19</th>\n",
       "      <td>1</td>\n",
       "      <td>TRANSFER</td>\n",
       "      <td>215310.300</td>\n",
       "      <td>C1670993182</td>\n",
       "      <td>705.000</td>\n",
       "      <td>0.000</td>\n",
       "      <td>C1100439041</td>\n",
       "      <td>22425.000</td>\n",
       "      <td>0.000</td>\n",
       "      <td>0</td>\n",
       "      <td>0</td>\n",
       "    </tr>\n",
       "    <tr>\n",
       "      <th>24</th>\n",
       "      <td>1</td>\n",
       "      <td>TRANSFER</td>\n",
       "      <td>311685.890</td>\n",
       "      <td>C1984094095</td>\n",
       "      <td>10835.000</td>\n",
       "      <td>0.000</td>\n",
       "      <td>C932583850</td>\n",
       "      <td>6267.000</td>\n",
       "      <td>2719172.890</td>\n",
       "      <td>0</td>\n",
       "      <td>0</td>\n",
       "    </tr>\n",
       "  </tbody>\n",
       "</table>\n",
       "</div>"
      ],
      "text/plain": [
       "    step      type     amount     nameOrig  oldbalanceOrg  newbalanceOrig  \\\n",
       "2      1  TRANSFER    181.000  C1305486145        181.000           0.000   \n",
       "3      1  CASH_OUT    181.000   C840083671        181.000           0.000   \n",
       "15     1  CASH_OUT 229133.940   C905080434      15325.000           0.000   \n",
       "19     1  TRANSFER 215310.300  C1670993182        705.000           0.000   \n",
       "24     1  TRANSFER 311685.890  C1984094095      10835.000           0.000   \n",
       "\n",
       "       nameDest  oldbalanceDest  newbalanceDest  isFraud  isFlaggedFraud  \n",
       "2    C553264065           0.000           0.000        1               0  \n",
       "3     C38997010       21182.000           0.000        1               0  \n",
       "15   C476402209        5083.000       51513.440        0               0  \n",
       "19  C1100439041       22425.000           0.000        0               0  \n",
       "24   C932583850        6267.000     2719172.890        0               0  "
      ]
     },
     "execution_count": 35,
     "metadata": {},
     "output_type": "execute_result"
    }
   ],
   "source": [
    "new_df.head()"
   ]
  },
  {
   "cell_type": "code",
   "execution_count": 36,
   "id": "157b9cb9",
   "metadata": {},
   "outputs": [
    {
     "data": {
      "image/png": "[encoded data removed]",
      "text/plain": [
       "<Figure size 1008x504 with 1 Axes>"
      ]
     },
     "metadata": {},
     "output_type": "display_data"
    }
   ],
   "source": [
    "plt.figure(figsize=[14,7])\n",
    "sns.distplot(new_df.step, kde = True, color='mediumorchid', fit = norm )\n",
    "plt.title('Distribution Plot for Step', fontsize = 20)\n",
    "plt.xlabel('Step', fontsize = 10)\n",
    "plt.show()"
   ]
  },
  {
   "cell_type": "code",
   "execution_count": 37,
   "id": "f72d4582",
   "metadata": {},
   "outputs": [
    {
     "data": {
      "text/html": [
       "<div>\n",
       "<style scoped>\n",
       "    .dataframe tbody tr th:only-of-type {\n",
       "        vertical-align: middle;\n",
       "    }\n",
       "\n",
       "    .dataframe tbody tr th {\n",
       "        vertical-align: top;\n",
       "    }\n",
       "\n",
       "    .dataframe thead th {\n",
       "        text-align: right;\n",
       "    }\n",
       "</style>\n",
       "<table border=\"1\" class=\"dataframe\">\n",
       "  <thead>\n",
       "    <tr style=\"text-align: right;\">\n",
       "      <th></th>\n",
       "      <th>step</th>\n",
       "      <th>type</th>\n",
       "      <th>amount</th>\n",
       "      <th>nameOrig</th>\n",
       "      <th>oldbalanceOrg</th>\n",
       "      <th>newbalanceOrig</th>\n",
       "      <th>nameDest</th>\n",
       "      <th>oldbalanceDest</th>\n",
       "      <th>newbalanceDest</th>\n",
       "      <th>isFraud</th>\n",
       "      <th>isFlaggedFraud</th>\n",
       "    </tr>\n",
       "  </thead>\n",
       "  <tbody>\n",
       "    <tr>\n",
       "      <th>724</th>\n",
       "      <td>1</td>\n",
       "      <td>CASH_OUT</td>\n",
       "      <td>416001.330</td>\n",
       "      <td>C749981943</td>\n",
       "      <td>0.000</td>\n",
       "      <td>0.000</td>\n",
       "      <td>C667346055</td>\n",
       "      <td>102.000</td>\n",
       "      <td>9291619.620</td>\n",
       "      <td>1</td>\n",
       "      <td>0</td>\n",
       "    </tr>\n",
       "    <tr>\n",
       "      <th>14861</th>\n",
       "      <td>8</td>\n",
       "      <td>CASH_OUT</td>\n",
       "      <td>181728.110</td>\n",
       "      <td>C2102265902</td>\n",
       "      <td>0.000</td>\n",
       "      <td>0.000</td>\n",
       "      <td>C789014007</td>\n",
       "      <td>11397.000</td>\n",
       "      <td>184477.770</td>\n",
       "      <td>1</td>\n",
       "      <td>0</td>\n",
       "    </tr>\n",
       "    <tr>\n",
       "      <th>25875</th>\n",
       "      <td>8</td>\n",
       "      <td>TRANSFER</td>\n",
       "      <td>1078013.760</td>\n",
       "      <td>C1026280121</td>\n",
       "      <td>0.000</td>\n",
       "      <td>0.000</td>\n",
       "      <td>C277510102</td>\n",
       "      <td>0.000</td>\n",
       "      <td>970749.680</td>\n",
       "      <td>1</td>\n",
       "      <td>0</td>\n",
       "    </tr>\n",
       "    <tr>\n",
       "      <th>77745</th>\n",
       "      <td>10</td>\n",
       "      <td>CASH_OUT</td>\n",
       "      <td>277970.880</td>\n",
       "      <td>C489647033</td>\n",
       "      <td>0.000</td>\n",
       "      <td>0.000</td>\n",
       "      <td>C571514738</td>\n",
       "      <td>0.000</td>\n",
       "      <td>277970.880</td>\n",
       "      <td>1</td>\n",
       "      <td>0</td>\n",
       "    </tr>\n",
       "    <tr>\n",
       "      <th>138559</th>\n",
       "      <td>11</td>\n",
       "      <td>TRANSFER</td>\n",
       "      <td>1933920.800</td>\n",
       "      <td>C1706582969</td>\n",
       "      <td>0.000</td>\n",
       "      <td>0.000</td>\n",
       "      <td>C461905695</td>\n",
       "      <td>1283762.850</td>\n",
       "      <td>3217683.650</td>\n",
       "      <td>1</td>\n",
       "      <td>0</td>\n",
       "    </tr>\n",
       "  </tbody>\n",
       "</table>\n",
       "</div>"
      ],
      "text/plain": [
       "        step      type      amount     nameOrig  oldbalanceOrg  \\\n",
       "724        1  CASH_OUT  416001.330   C749981943          0.000   \n",
       "14861      8  CASH_OUT  181728.110  C2102265902          0.000   \n",
       "25875      8  TRANSFER 1078013.760  C1026280121          0.000   \n",
       "77745     10  CASH_OUT  277970.880   C489647033          0.000   \n",
       "138559    11  TRANSFER 1933920.800  C1706582969          0.000   \n",
       "\n",
       "        newbalanceOrig    nameDest  oldbalanceDest  newbalanceDest  isFraud  \\\n",
       "724              0.000  C667346055         102.000     9291619.620        1   \n",
       "14861            0.000  C789014007       11397.000      184477.770        1   \n",
       "25875            0.000  C277510102           0.000      970749.680        1   \n",
       "77745            0.000  C571514738           0.000      277970.880        1   \n",
       "138559           0.000  C461905695     1283762.850     3217683.650        1   \n",
       "\n",
       "        isFlaggedFraud  \n",
       "724                  0  \n",
       "14861                0  \n",
       "25875                0  \n",
       "77745                0  \n",
       "138559               0  "
      ]
     },
     "execution_count": 37,
     "metadata": {},
     "output_type": "execute_result"
    }
   ],
   "source": [
    "# Transactions where old and new balance is equal and are termed as fraud\n",
    "\n",
    "new_df[(new_df['isFraud'] == 1) & (new_df['oldbalanceOrg'] == new_df['newbalanceOrig'])].head(5)"
   ]
  },
  {
   "cell_type": "code",
   "execution_count": 38,
   "id": "754371b2",
   "metadata": {},
   "outputs": [
    {
     "data": {
      "text/html": [
       "<div>\n",
       "<style scoped>\n",
       "    .dataframe tbody tr th:only-of-type {\n",
       "        vertical-align: middle;\n",
       "    }\n",
       "\n",
       "    .dataframe tbody tr th {\n",
       "        vertical-align: top;\n",
       "    }\n",
       "\n",
       "    .dataframe thead th {\n",
       "        text-align: right;\n",
       "    }\n",
       "</style>\n",
       "<table border=\"1\" class=\"dataframe\">\n",
       "  <thead>\n",
       "    <tr style=\"text-align: right;\">\n",
       "      <th></th>\n",
       "      <th>step</th>\n",
       "      <th>type</th>\n",
       "      <th>amount</th>\n",
       "      <th>nameOrig</th>\n",
       "      <th>oldbalanceOrg</th>\n",
       "      <th>newbalanceOrig</th>\n",
       "      <th>nameDest</th>\n",
       "      <th>oldbalanceDest</th>\n",
       "      <th>newbalanceDest</th>\n",
       "      <th>isFraud</th>\n",
       "      <th>isFlaggedFraud</th>\n",
       "    </tr>\n",
       "  </thead>\n",
       "  <tbody>\n",
       "    <tr>\n",
       "      <th>48</th>\n",
       "      <td>1</td>\n",
       "      <td>CASH_OUT</td>\n",
       "      <td>5346.890</td>\n",
       "      <td>C512549200</td>\n",
       "      <td>0.000</td>\n",
       "      <td>0.000</td>\n",
       "      <td>C248609774</td>\n",
       "      <td>652637.000</td>\n",
       "      <td>6453430.910</td>\n",
       "      <td>0</td>\n",
       "      <td>0</td>\n",
       "    </tr>\n",
       "    <tr>\n",
       "      <th>79</th>\n",
       "      <td>1</td>\n",
       "      <td>TRANSFER</td>\n",
       "      <td>77957.680</td>\n",
       "      <td>C207471778</td>\n",
       "      <td>0.000</td>\n",
       "      <td>0.000</td>\n",
       "      <td>C1761291320</td>\n",
       "      <td>94900.000</td>\n",
       "      <td>22233.650</td>\n",
       "      <td>0</td>\n",
       "      <td>0</td>\n",
       "    </tr>\n",
       "    <tr>\n",
       "      <th>80</th>\n",
       "      <td>1</td>\n",
       "      <td>TRANSFER</td>\n",
       "      <td>17231.460</td>\n",
       "      <td>C1243171897</td>\n",
       "      <td>0.000</td>\n",
       "      <td>0.000</td>\n",
       "      <td>C783286238</td>\n",
       "      <td>24672.000</td>\n",
       "      <td>0.000</td>\n",
       "      <td>0</td>\n",
       "      <td>0</td>\n",
       "    </tr>\n",
       "    <tr>\n",
       "      <th>81</th>\n",
       "      <td>1</td>\n",
       "      <td>TRANSFER</td>\n",
       "      <td>78766.030</td>\n",
       "      <td>C1376151044</td>\n",
       "      <td>0.000</td>\n",
       "      <td>0.000</td>\n",
       "      <td>C1749186397</td>\n",
       "      <td>103772.000</td>\n",
       "      <td>277515.050</td>\n",
       "      <td>0</td>\n",
       "      <td>0</td>\n",
       "    </tr>\n",
       "    <tr>\n",
       "      <th>82</th>\n",
       "      <td>1</td>\n",
       "      <td>TRANSFER</td>\n",
       "      <td>224606.640</td>\n",
       "      <td>C873175411</td>\n",
       "      <td>0.000</td>\n",
       "      <td>0.000</td>\n",
       "      <td>C766572210</td>\n",
       "      <td>354678.920</td>\n",
       "      <td>0.000</td>\n",
       "      <td>0</td>\n",
       "      <td>0</td>\n",
       "    </tr>\n",
       "  </tbody>\n",
       "</table>\n",
       "</div>"
      ],
      "text/plain": [
       "    step      type     amount     nameOrig  oldbalanceOrg  newbalanceOrig  \\\n",
       "48     1  CASH_OUT   5346.890   C512549200          0.000           0.000   \n",
       "79     1  TRANSFER  77957.680   C207471778          0.000           0.000   \n",
       "80     1  TRANSFER  17231.460  C1243171897          0.000           0.000   \n",
       "81     1  TRANSFER  78766.030  C1376151044          0.000           0.000   \n",
       "82     1  TRANSFER 224606.640   C873175411          0.000           0.000   \n",
       "\n",
       "       nameDest  oldbalanceDest  newbalanceDest  isFraud  isFlaggedFraud  \n",
       "48   C248609774      652637.000     6453430.910        0               0  \n",
       "79  C1761291320       94900.000       22233.650        0               0  \n",
       "80   C783286238       24672.000           0.000        0               0  \n",
       "81  C1749186397      103772.000      277515.050        0               0  \n",
       "82   C766572210      354678.920           0.000        0               0  "
      ]
     },
     "execution_count": 38,
     "metadata": {},
     "output_type": "execute_result"
    }
   ],
   "source": [
    "# Transactions where old and new balance is equal and are termed as not fraud\n",
    "\n",
    "new_df[(new_df['isFraud'] == 0) & (new_df['oldbalanceOrg'] == new_df['newbalanceOrig'])].head(5)"
   ]
  },
  {
   "cell_type": "markdown",
   "id": "0f394de6",
   "metadata": {},
   "source": [
    "Key Factor to predict a fraudulent transaction is invalid account balance after the transactions. As, 'CASH_OUT' transaction is being conducted over empty accounts & sometimes amount withrawn is much less than the the amount mentioned in transaction receipt. 'TRANSFER' transactions are being done over accounts whose net balance are always either zero or remain same."
   ]
  },
  {
   "cell_type": "code",
   "execution_count": 39,
   "id": "7588f03d",
   "metadata": {},
   "outputs": [],
   "source": [
    "# Dropping 2 columns of 'customer who started the transaction' and 'customer who is the recipient of the transaction'\n",
    "new_df.drop(['nameOrig', 'nameDest'], axis = 1, inplace=True)"
   ]
  },
  {
   "cell_type": "code",
   "execution_count": 40,
   "id": "c409a5aa",
   "metadata": {},
   "outputs": [],
   "source": [
    "# Difference between initial balance before the transaction and new balance after the transaction\n",
    "new_df['balanceOrig'] = new_df['newbalanceOrig'] - new_df['oldbalanceOrg'] + new_df['amount'] \n",
    "\n",
    "# Difference between initial balance recipient before the transaction and new balance recipient after the transaction\n",
    "new_df['balanceDest'] = new_df['newbalanceDest'] - new_df['oldbalanceDest'] + new_df['amount'] "
   ]
  },
  {
   "cell_type": "code",
   "execution_count": 41,
   "id": "8a68072e",
   "metadata": {},
   "outputs": [
    {
     "data": {
      "text/html": [
       "<div>\n",
       "<style scoped>\n",
       "    .dataframe tbody tr th:only-of-type {\n",
       "        vertical-align: middle;\n",
       "    }\n",
       "\n",
       "    .dataframe tbody tr th {\n",
       "        vertical-align: top;\n",
       "    }\n",
       "\n",
       "    .dataframe thead th {\n",
       "        text-align: right;\n",
       "    }\n",
       "</style>\n",
       "<table border=\"1\" class=\"dataframe\">\n",
       "  <thead>\n",
       "    <tr style=\"text-align: right;\">\n",
       "      <th></th>\n",
       "      <th>step</th>\n",
       "      <th>type</th>\n",
       "      <th>amount</th>\n",
       "      <th>oldbalanceOrg</th>\n",
       "      <th>newbalanceOrig</th>\n",
       "      <th>oldbalanceDest</th>\n",
       "      <th>newbalanceDest</th>\n",
       "      <th>isFraud</th>\n",
       "      <th>isFlaggedFraud</th>\n",
       "      <th>balanceOrig</th>\n",
       "      <th>balanceDest</th>\n",
       "    </tr>\n",
       "  </thead>\n",
       "  <tbody>\n",
       "    <tr>\n",
       "      <th>2</th>\n",
       "      <td>1</td>\n",
       "      <td>TRANSFER</td>\n",
       "      <td>181.000</td>\n",
       "      <td>181.000</td>\n",
       "      <td>0.000</td>\n",
       "      <td>0.000</td>\n",
       "      <td>0.000</td>\n",
       "      <td>1</td>\n",
       "      <td>0</td>\n",
       "      <td>0.000</td>\n",
       "      <td>181.000</td>\n",
       "    </tr>\n",
       "    <tr>\n",
       "      <th>3</th>\n",
       "      <td>1</td>\n",
       "      <td>CASH_OUT</td>\n",
       "      <td>181.000</td>\n",
       "      <td>181.000</td>\n",
       "      <td>0.000</td>\n",
       "      <td>21182.000</td>\n",
       "      <td>0.000</td>\n",
       "      <td>1</td>\n",
       "      <td>0</td>\n",
       "      <td>0.000</td>\n",
       "      <td>-21001.000</td>\n",
       "    </tr>\n",
       "    <tr>\n",
       "      <th>15</th>\n",
       "      <td>1</td>\n",
       "      <td>CASH_OUT</td>\n",
       "      <td>229133.940</td>\n",
       "      <td>15325.000</td>\n",
       "      <td>0.000</td>\n",
       "      <td>5083.000</td>\n",
       "      <td>51513.440</td>\n",
       "      <td>0</td>\n",
       "      <td>0</td>\n",
       "      <td>213808.940</td>\n",
       "      <td>275564.380</td>\n",
       "    </tr>\n",
       "    <tr>\n",
       "      <th>19</th>\n",
       "      <td>1</td>\n",
       "      <td>TRANSFER</td>\n",
       "      <td>215310.300</td>\n",
       "      <td>705.000</td>\n",
       "      <td>0.000</td>\n",
       "      <td>22425.000</td>\n",
       "      <td>0.000</td>\n",
       "      <td>0</td>\n",
       "      <td>0</td>\n",
       "      <td>214605.300</td>\n",
       "      <td>192885.300</td>\n",
       "    </tr>\n",
       "    <tr>\n",
       "      <th>24</th>\n",
       "      <td>1</td>\n",
       "      <td>TRANSFER</td>\n",
       "      <td>311685.890</td>\n",
       "      <td>10835.000</td>\n",
       "      <td>0.000</td>\n",
       "      <td>6267.000</td>\n",
       "      <td>2719172.890</td>\n",
       "      <td>0</td>\n",
       "      <td>0</td>\n",
       "      <td>300850.890</td>\n",
       "      <td>3024591.780</td>\n",
       "    </tr>\n",
       "  </tbody>\n",
       "</table>\n",
       "</div>"
      ],
      "text/plain": [
       "    step      type     amount  oldbalanceOrg  newbalanceOrig  oldbalanceDest  \\\n",
       "2      1  TRANSFER    181.000        181.000           0.000           0.000   \n",
       "3      1  CASH_OUT    181.000        181.000           0.000       21182.000   \n",
       "15     1  CASH_OUT 229133.940      15325.000           0.000        5083.000   \n",
       "19     1  TRANSFER 215310.300        705.000           0.000       22425.000   \n",
       "24     1  TRANSFER 311685.890      10835.000           0.000        6267.000   \n",
       "\n",
       "    newbalanceDest  isFraud  isFlaggedFraud  balanceOrig  balanceDest  \n",
       "2            0.000        1               0        0.000      181.000  \n",
       "3            0.000        1               0        0.000   -21001.000  \n",
       "15       51513.440        0               0   213808.940   275564.380  \n",
       "19           0.000        0               0   214605.300   192885.300  \n",
       "24     2719172.890        0               0   300850.890  3024591.780  "
      ]
     },
     "execution_count": 41,
     "metadata": {},
     "output_type": "execute_result"
    }
   ],
   "source": [
    "new_df.head(5)"
   ]
  },
  {
   "cell_type": "code",
   "execution_count": 42,
   "id": "8c583e04",
   "metadata": {},
   "outputs": [],
   "source": [
    "# Label Encoding for transaction type\n",
    "new_df['type'].replace('TRANSFER', 0, inplace = True)\n",
    "new_df['type'].replace('CASH_OUT', 1, inplace = True)"
   ]
  },
  {
   "cell_type": "code",
   "execution_count": 43,
   "id": "e2873558",
   "metadata": {},
   "outputs": [
    {
     "data": {
      "text/html": [
       "<div>\n",
       "<style scoped>\n",
       "    .dataframe tbody tr th:only-of-type {\n",
       "        vertical-align: middle;\n",
       "    }\n",
       "\n",
       "    .dataframe tbody tr th {\n",
       "        vertical-align: top;\n",
       "    }\n",
       "\n",
       "    .dataframe thead th {\n",
       "        text-align: right;\n",
       "    }\n",
       "</style>\n",
       "<table border=\"1\" class=\"dataframe\">\n",
       "  <thead>\n",
       "    <tr style=\"text-align: right;\">\n",
       "      <th></th>\n",
       "      <th>step</th>\n",
       "      <th>type</th>\n",
       "      <th>amount</th>\n",
       "      <th>oldbalanceOrg</th>\n",
       "      <th>newbalanceOrig</th>\n",
       "      <th>oldbalanceDest</th>\n",
       "      <th>newbalanceDest</th>\n",
       "      <th>isFraud</th>\n",
       "      <th>isFlaggedFraud</th>\n",
       "      <th>balanceOrig</th>\n",
       "      <th>balanceDest</th>\n",
       "    </tr>\n",
       "  </thead>\n",
       "  <tbody>\n",
       "    <tr>\n",
       "      <th>2</th>\n",
       "      <td>1</td>\n",
       "      <td>0</td>\n",
       "      <td>181.000</td>\n",
       "      <td>181.000</td>\n",
       "      <td>0.000</td>\n",
       "      <td>0.000</td>\n",
       "      <td>0.000</td>\n",
       "      <td>1</td>\n",
       "      <td>0</td>\n",
       "      <td>0.000</td>\n",
       "      <td>181.000</td>\n",
       "    </tr>\n",
       "    <tr>\n",
       "      <th>3</th>\n",
       "      <td>1</td>\n",
       "      <td>1</td>\n",
       "      <td>181.000</td>\n",
       "      <td>181.000</td>\n",
       "      <td>0.000</td>\n",
       "      <td>21182.000</td>\n",
       "      <td>0.000</td>\n",
       "      <td>1</td>\n",
       "      <td>0</td>\n",
       "      <td>0.000</td>\n",
       "      <td>-21001.000</td>\n",
       "    </tr>\n",
       "    <tr>\n",
       "      <th>15</th>\n",
       "      <td>1</td>\n",
       "      <td>1</td>\n",
       "      <td>229133.940</td>\n",
       "      <td>15325.000</td>\n",
       "      <td>0.000</td>\n",
       "      <td>5083.000</td>\n",
       "      <td>51513.440</td>\n",
       "      <td>0</td>\n",
       "      <td>0</td>\n",
       "      <td>213808.940</td>\n",
       "      <td>275564.380</td>\n",
       "    </tr>\n",
       "    <tr>\n",
       "      <th>19</th>\n",
       "      <td>1</td>\n",
       "      <td>0</td>\n",
       "      <td>215310.300</td>\n",
       "      <td>705.000</td>\n",
       "      <td>0.000</td>\n",
       "      <td>22425.000</td>\n",
       "      <td>0.000</td>\n",
       "      <td>0</td>\n",
       "      <td>0</td>\n",
       "      <td>214605.300</td>\n",
       "      <td>192885.300</td>\n",
       "    </tr>\n",
       "    <tr>\n",
       "      <th>24</th>\n",
       "      <td>1</td>\n",
       "      <td>0</td>\n",
       "      <td>311685.890</td>\n",
       "      <td>10835.000</td>\n",
       "      <td>0.000</td>\n",
       "      <td>6267.000</td>\n",
       "      <td>2719172.890</td>\n",
       "      <td>0</td>\n",
       "      <td>0</td>\n",
       "      <td>300850.890</td>\n",
       "      <td>3024591.780</td>\n",
       "    </tr>\n",
       "  </tbody>\n",
       "</table>\n",
       "</div>"
      ],
      "text/plain": [
       "    step  type     amount  oldbalanceOrg  newbalanceOrig  oldbalanceDest  \\\n",
       "2      1     0    181.000        181.000           0.000           0.000   \n",
       "3      1     1    181.000        181.000           0.000       21182.000   \n",
       "15     1     1 229133.940      15325.000           0.000        5083.000   \n",
       "19     1     0 215310.300        705.000           0.000       22425.000   \n",
       "24     1     0 311685.890      10835.000           0.000        6267.000   \n",
       "\n",
       "    newbalanceDest  isFraud  isFlaggedFraud  balanceOrig  balanceDest  \n",
       "2            0.000        1               0        0.000      181.000  \n",
       "3            0.000        1               0        0.000   -21001.000  \n",
       "15       51513.440        0               0   213808.940   275564.380  \n",
       "19           0.000        0               0   214605.300   192885.300  \n",
       "24     2719172.890        0               0   300850.890  3024591.780  "
      ]
     },
     "execution_count": 43,
     "metadata": {},
     "output_type": "execute_result"
    }
   ],
   "source": [
    "new_df.head(5)"
   ]
  },
  {
   "cell_type": "code",
   "execution_count": 44,
   "id": "2046e996",
   "metadata": {},
   "outputs": [
    {
     "data": {
      "text/plain": [
       "<AxesSubplot:xlabel='amount', ylabel='Count'>"
      ]
     },
     "execution_count": 44,
     "metadata": {},
     "output_type": "execute_result"
    },
    {
     "data": {
      "image/png": "[encoded data removed]",
      "text/plain": [
       "<Figure size 432x144 with 1 Axes>"
      ]
     },
     "metadata": {},
     "output_type": "display_data"
    }
   ],
   "source": [
    "plt.figure(figsize=(6,2))\n",
    "sns.histplot(new_df[new_df['type'] == 0]['amount'])\n",
    "sns.histplot(new_df[new_df['type'] == 1]['amount'],color='red',)"
   ]
  },
  {
   "cell_type": "code",
   "execution_count": 45,
   "id": "f8e7dd12",
   "metadata": {},
   "outputs": [],
   "source": [
    "# Preparing data for model training by separating feature values and target.\n",
    "\n",
    "y = new_df['isFraud']\n",
    "x = new_df.drop(['isFraud'], axis = 1)"
   ]
  },
  {
   "cell_type": "code",
   "execution_count": 46,
   "id": "bf849bd5",
   "metadata": {},
   "outputs": [
    {
     "data": {
      "text/plain": [
       "(2770409,)"
      ]
     },
     "execution_count": 46,
     "metadata": {},
     "output_type": "execute_result"
    }
   ],
   "source": [
    "y.shape"
   ]
  },
  {
   "cell_type": "code",
   "execution_count": 47,
   "id": "7ddbae97",
   "metadata": {},
   "outputs": [
    {
     "data": {
      "text/plain": [
       "(2770409, 10)"
      ]
     },
     "execution_count": 47,
     "metadata": {},
     "output_type": "execute_result"
    }
   ],
   "source": [
    "x.shape"
   ]
  },
  {
   "cell_type": "code",
   "execution_count": 48,
   "id": "d5ad54b0",
   "metadata": {},
   "outputs": [],
   "source": [
    "#split the dataset into 20% test data and 80% train data.\n",
    "from sklearn.model_selection import train_test_split\n",
    "\n",
    "xtrain,xtest,ytrain,ytest=train_test_split(x,y,test_size=0.2,random_state=0)"
   ]
  },
  {
   "cell_type": "code",
   "execution_count": 49,
   "id": "f6feb977",
   "metadata": {},
   "outputs": [
    {
     "name": "stdout",
     "output_type": "stream",
     "text": [
      "Shape of xtrain:  (2216327, 10)\n",
      "Shape of ytrain:  (2216327,)\n"
     ]
    }
   ],
   "source": [
    "print(\"Shape of xtrain: \", xtrain.shape)\n",
    "print(\"Shape of ytrain: \", ytrain.shape)"
   ]
  },
  {
   "cell_type": "code",
   "execution_count": 50,
   "id": "8b1d8cb1",
   "metadata": {},
   "outputs": [
    {
     "name": "stdout",
     "output_type": "stream",
     "text": [
      "Shape of xtest:  (554082, 10)\n",
      "Shape of ytest:  (554082,)\n"
     ]
    }
   ],
   "source": [
    "print(\"Shape of xtest: \", xtest.shape)\n",
    "print(\"Shape of ytest: \", ytest.shape)"
   ]
  },
  {
   "cell_type": "code",
   "execution_count": 51,
   "id": "f6cc53fa",
   "metadata": {},
   "outputs": [],
   "source": [
    "#perform the standard scaling on data.\n",
    "\n",
    "from sklearn.preprocessing import StandardScaler\n",
    "std=StandardScaler()"
   ]
  },
  {
   "cell_type": "code",
   "execution_count": 52,
   "id": "1a5ed2c3",
   "metadata": {},
   "outputs": [],
   "source": [
    "# transform both the training and test data of input.\n",
    "\n",
    "std_train=std.fit_transform(xtrain)\n",
    "std_test=std.transform(xtest)"
   ]
  },
  {
   "cell_type": "code",
   "execution_count": 53,
   "id": "35864885",
   "metadata": {},
   "outputs": [
    {
     "data": {
      "text/plain": [
       "(2216327, 10)"
      ]
     },
     "execution_count": 53,
     "metadata": {},
     "output_type": "execute_result"
    }
   ],
   "source": [
    "#Check the dimensions of std_train\n",
    "std_train.shape"
   ]
  },
  {
   "cell_type": "code",
   "execution_count": 54,
   "id": "f574bd61",
   "metadata": {},
   "outputs": [
    {
     "data": {
      "text/plain": [
       "(554082, 10)"
      ]
     },
     "execution_count": 54,
     "metadata": {},
     "output_type": "execute_result"
    }
   ],
   "source": [
    "#Check the dimensions of std_test\n",
    "std_test.shape"
   ]
  },
  {
   "cell_type": "markdown",
   "id": "01c96b49",
   "metadata": {},
   "source": [
    "# Importing all major Machine Learning Models"
   ]
  },
  {
   "cell_type": "code",
   "execution_count": 3,
   "id": "c266be45",
   "metadata": {},
   "outputs": [],
   "source": [
    "from sklearn.linear_model import LogisticRegression\n",
    "from xgboost import XGBClassifier\n",
    "from sklearn.svm import SVC\n",
    "from sklearn.naive_bayes import MultinomialNB\n",
    "from sklearn.tree import DecisionTreeClassifier\n",
    "from sklearn.neighbors import KNeighborsClassifier\n",
    "from sklearn.ensemble import RandomForestClassifier\n",
    "from sklearn.ensemble import AdaBoostClassifier\n",
    "from sklearn.ensemble import BaggingClassifier\n",
    "from sklearn.ensemble import ExtraTreesClassifier\n",
    "from sklearn.ensemble import GradientBoostingClassifier"
   ]
  },
  {
   "cell_type": "markdown",
   "id": "288f9c01",
   "metadata": {},
   "source": [
    "# Importing Metrics for tracking model performances"
   ]
  },
  {
   "cell_type": "code",
   "execution_count": 4,
   "id": "0eea9d1f",
   "metadata": {},
   "outputs": [],
   "source": [
    "from sklearn.metrics import precision_score, classification_report, average_precision_score, accuracy_score"
   ]
  },
  {
   "cell_type": "code",
   "execution_count": 5,
   "id": "5139b3e5",
   "metadata": {},
   "outputs": [],
   "source": [
    "lrc = LogisticRegression()\n",
    "xgb = XGBClassifier()\n",
    "rfc = RandomForestClassifier(n_estimators=5, random_state=0)\n",
    "dtc = DecisionTreeClassifier(max_depth=5)\n",
    "abc = AdaBoostClassifier(n_estimators=10, random_state=2)\n",
    "bc = BaggingClassifier(n_estimators=10, random_state=2)\n",
    "etc = ExtraTreesClassifier()\n",
    "gbdt = GradientBoostingClassifier(n_estimators=50,random_state=2)\n",
    "svc = SVC(kernel='sigmoid', gamma=1.0)\n",
    "knc = KNeighborsClassifier()\n",
    "mnb = MultinomialNB()"
   ]
  },
  {
   "cell_type": "code",
   "execution_count": 6,
   "id": "c993bba2",
   "metadata": {},
   "outputs": [],
   "source": [
    "clfs = {\n",
    "    'LR': lrc, \n",
    "    'RF': rfc, \n",
    "    'xgb':xgb,\n",
    "    'SVC' : svc,\n",
    "    'KN' : knc, \n",
    "    'NB': mnb, \n",
    "    'DT': dtc, \n",
    "    'AdaBoost': abc, \n",
    "    'BgC': bc, \n",
    "    'ETC': etc,\n",
    "    'GBDT':gbdt\n",
    "    \n",
    "}"
   ]
  },
  {
   "cell_type": "markdown",
   "id": "f578813f",
   "metadata": {},
   "source": [
    "Function for"
   ]
  },
  {
   "cell_type": "code",
   "execution_count": 12,
   "id": "a62e17aa",
   "metadata": {},
   "outputs": [],
   "source": [
    "def train_classifier(clf,std_train,ytrain,std_test,ytest):\n",
    "    clf.fit(std_train,ytrain)\n",
    "    y_pred = clf.predict(std_test)\n",
    "    accuracy = accuracy_score(ytest,y_pred)\n",
    "    precision = precision_score(ytest,y_pred)\n",
    "    clssr = classification_report(ytest, y_pred)\n",
    "    avgpr = average_precision_score(ytest, y_pred)\n",
    "\n",
    "    print(\"Accuracy: \", accuracy, \"\\n\")\n",
    "    print(\"Precision: \", precision, \"\\n\")\n",
    "    print(\"Classification Report: \\n\", clssr, \"\\n\")\n",
    "    print(\"Average-Precision Score: \", avgpr, \"\\n\")\n",
    "    #return accuracy,precision"
   ]
  },
  {
   "cell_type": "markdown",
   "id": "faf54d4c",
   "metadata": {},
   "source": [
    "After training multiple ML Models on our data, We concluded that due to numeric type and high volume of our dataset, 4 models gave HIGH performance :\n",
    "\n",
    "XGBoost (Extreme Gradient Boosting)\n",
    "AdaBoost (Adaptive Boosting)\n",
    "Random Decisions Forest\n",
    "Logistic Regression\n",
    "Out of which XGBoost gave the best performance."
   ]
  },
  {
   "cell_type": "code",
   "execution_count": null,
   "id": "cfff481a",
   "metadata": {},
   "outputs": [],
   "source": [
    "train_classifier(xgb,std_train,ytrain,std_test,ytest)\n"
   ]
  },
  {
   "cell_type": "raw",
   "id": "751a2e8e",
   "metadata": {},
   "source": [
    "Accuracy:  0.9999963904259659 \n",
    "\n",
    "Precision:  1.0 \n",
    "\n",
    "Classification Report: \n",
    "               precision    recall  f1-score   support\n",
    "\n",
    "           0       1.00      1.00      1.00    552446\n",
    "           1       1.00      1.00      1.00      1636\n",
    "\n",
    "    accuracy                           1.00    554082\n",
    "   macro avg       1.00      1.00      1.00    554082\n",
    "weighted avg       1.00      1.00      1.00    554082\n",
    " \n",
    "\n",
    "Average-Precision Score:  0.9987811156865035 "
   ]
  },
  {
   "cell_type": "markdown",
   "id": "d48a6263",
   "metadata": {},
   "source": [
    "# Random Decisions Forest Performance :"
   ]
  },
  {
   "cell_type": "code",
   "execution_count": null,
   "id": "bc9f5bf4",
   "metadata": {},
   "outputs": [],
   "source": [
    "train_classifier(rfc,std_train,ytrain,std_test,ytest)"
   ]
  },
  {
   "cell_type": "raw",
   "id": "0e5f5f74",
   "metadata": {},
   "source": [
    "Accuracy:  0.9999945856389487 \n",
    "\n",
    "Precision:  0.999388379204893 \n",
    "\n",
    "Classification Report: \n",
    "               precision    recall  f1-score   support\n",
    "\n",
    "           0       1.00      1.00      1.00    552446\n",
    "           1       1.00      1.00      1.00      1636\n",
    "\n",
    "    accuracy                           1.00    554082\n",
    "   macro avg       1.00      1.00      1.00    554082\n",
    "weighted avg       1.00      1.00      1.00    554082\n",
    " \n",
    "\n",
    "Average-Precision Score:  0.99817024259408 \n"
   ]
  },
  {
   "cell_type": "markdown",
   "id": "1cf6745c",
   "metadata": {},
   "source": [
    "# AdaBoost Performance :"
   ]
  },
  {
   "cell_type": "code",
   "execution_count": null,
   "id": "5a5d3e45",
   "metadata": {},
   "outputs": [],
   "source": [
    "train_classifier(abc,std_train,ytrain,std_test,ytest)"
   ]
  },
  {
   "cell_type": "raw",
   "id": "e5612d01",
   "metadata": {},
   "source": [
    "Accuracy:  0.999355691034901 \n",
    "\n",
    "Precision:  0.9945862335653519 \n",
    "\n",
    "Classification Report: \n",
    "               precision    recall  f1-score   support\n",
    "\n",
    "           0       1.00      1.00      1.00    552446\n",
    "           1       0.99      0.79      0.88      1636\n",
    "\n",
    "    accuracy                           1.00    554082\n",
    "   macro avg       1.00      0.89      0.94    554082\n",
    "weighted avg       1.00      1.00      1.00    554082\n",
    " \n",
    "\n",
    "Average-Precision Score:  0.7824396805690862 \n"
   ]
  },
  {
   "cell_type": "markdown",
   "id": "64d6b28d",
   "metadata": {},
   "source": [
    "# Logistic Regression Performance :"
   ]
  },
  {
   "cell_type": "code",
   "execution_count": null,
   "id": "2f012dc6",
   "metadata": {},
   "outputs": [],
   "source": [
    "train_classifier(lrc,std_train,ytrain,std_test,ytest)"
   ]
  },
  {
   "cell_type": "raw",
   "id": "4d979cf0",
   "metadata": {},
   "source": [
    "Accuracy:  0.9984081778509318 \n",
    "\n",
    "Precision:  0.8918918918918919 \n",
    "\n",
    "Classification Report: \n",
    "               precision    recall  f1-score   support\n",
    "\n",
    "           0       1.00      1.00      1.00    552446\n",
    "           1       0.89      0.52      0.66      1636\n",
    "\n",
    "    accuracy                           1.00    554082\n",
    "   macro avg       0.95      0.76      0.83    554082\n",
    "weighted avg       1.00      1.00      1.00    554082\n",
    " \n",
    "\n",
    "Average-Precision Score:  0.4691567179687555 "
   ]
  },
  {
   "cell_type": "markdown",
   "id": "442676d1",
   "metadata": {},
   "source": [
    "Preventive method to avoid fraudulent transactions must be adopted by the company like:\n",
    "\n",
    "Random Screening of financial acoounts everyday.\n",
    "Tracking for financial patterns.\n",
    "Tracking odd behavior of account activity over a course of period.\n",
    "Strong verification system and multiple checks over a succesfull transaction.\n",
    "Integration of company infrastructure with government financial institutions.\n",
    "To test if our preventive methods are actually reliable, we must also run mock drills/testing transactions for each possible scenario, As security of financial infrastructure is a developing process due to advancing cyber security challenges."
   ]
  },
  {
   "cell_type": "code",
   "execution_count": null,
   "id": "a5b80f16",
   "metadata": {},
   "outputs": [],
   "source": []
  }
 ],
 "metadata": {
  "kernelspec": {
   "display_name": "Python 3 (ipykernel)",
   "language": "python",
   "name": "python3"
  },
  "language_info": {
   "codemirror_mode": {
    "name": "ipython",
    "version": 3
   },
   "file_extension": ".py",
   "mimetype": "text/x-python",
   "name": "python",
   "nbconvert_exporter": "python",
   "pygments_lexer": "ipython3",
   "version": "3.9.12"
  }
 },
 "nbformat": 4,
 "nbformat_minor": 5
}
